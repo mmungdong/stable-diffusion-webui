{
 "cells": [
  {
   "cell_type": "markdown",
   "id": "5377a433-0ae8-4d3d-b7c0-ebb682424f0e",
   "metadata": {},
   "source": [
    "# install some package"
   ]
  },
  {
   "cell_type": "code",
   "execution_count": null,
   "id": "bcd88841-8524-4935-8219-955fe270b619",
   "metadata": {},
   "outputs": [],
   "source": [
    "!bash sudo apt install wget git python3 python3-venv libgl1 libglib2.0-0"
   ]
  },
  {
   "cell_type": "markdown",
   "id": "f691e7b2-a5b3-4938-9462-89ffb9dad397",
   "metadata": {},
   "source": [
    "# pull the latest install scripts"
   ]
  },
  {
   "cell_type": "code",
   "execution_count": null,
   "id": "84253402-a520-482e-afc9-5daa710d7c74",
   "metadata": {},
   "outputs": [],
   "source": [
    "wget -q https://raw.githubusercontent.com/AUTOMATIC1111/stable-diffusion-webui/master/webui.sh"
   ]
  },
  {
   "cell_type": "markdown",
   "id": "f9b1fc69-a113-4948-8a88-82be1c4afa48",
   "metadata": {},
   "source": [
    "# run"
   ]
  },
  {
   "cell_type": "code",
   "execution_count": null,
   "id": "1f3fca50-db34-4046-9ead-8e38abad99d7",
   "metadata": {},
   "outputs": [],
   "source": [
    "!bash ./webui.sh"
   ]
  }
 ],
 "metadata": {
  "kernelspec": {
   "display_name": "Python 3 (ipykernel)",
   "language": "python",
   "name": "python3"
  },
  "language_info": {
   "codemirror_mode": {
    "name": "ipython",
    "version": 3
   },
   "file_extension": ".py",
   "mimetype": "text/x-python",
   "name": "python",
   "nbconvert_exporter": "python",
   "pygments_lexer": "ipython3",
   "version": "3.10.6"
  }
 },
 "nbformat": 4,
 "nbformat_minor": 5
}
